{
 "cells": [
  {
   "cell_type": "code",
   "execution_count": 64,
   "metadata": {},
   "outputs": [],
   "source": [
    "\n",
    "extracted_page_data = {\n",
    "\n",
    "# \"source\": \"/Users/pratikraj/Desktop/Floor_Plan_Reader/pdf_images/10cbd17d-272c-4929-955b-8fe0056d5c9f-04.jpg\",\n",
    "\"extracted_properties\": {\n",
    "\"Flat Unit\": \"X02\",\n",
    "\"No Of Bedrooms\": \"1\",\n",
    "\"Dimension\": [\n",
    "    {\n",
    "    \"name\": \"BALCONY\",\n",
    "    \"dimension\": \"3.09 X 1.79\"\n",
    "    },\n",
    "    {\n",
    "    \"name\": \"LIVING ROOM\",\n",
    "    \"dimension\": \"7.540 X 3.87\"\n",
    "    },\n",
    "    {\n",
    "    \"name\": \"KITCHEN\",\n",
    "    \"dimension\": \"4.10 X 2.40\"\n",
    "    },\n",
    "    {\n",
    "    \"name\": \"BEDROOM\",\n",
    "    \"dimension\": \"4.38 X 3.40\"\n",
    "    },\n",
    "    {\n",
    "    \"name\": \"Bedroom 1\",\n",
    "     \"dimension\": \"38 X 3.40\"\n",
    "    },\n",
    "    {\n",
    "    \"name\": \"Bed room 1\",\n",
    "     \"dimension\": \"4 X 3\"\n",
    "    },\n",
    "    {\n",
    "    \"name\": \"BATHROOM\",\n",
    "    \"dimension\": \"2.50 X 1.60\"\n",
    "    },\n",
    "    {\n",
    "    \"name\": \"BALCONY\",\n",
    "    \"dimension\": \"6.10 X 5.17\"\n",
    "    }\n",
    "],\n",
    "\"Total Area\": [\n",
    "    {\n",
    "    \"name\": \"SUITE AREA\",\n",
    "    \"dimension\": \"64.17 SQM. 691 SQFT.\"\n",
    "    },\n",
    "    {\n",
    "    \"name\": \"BALCONY AREA\",\n",
    "    \"dimension\": \"17.73 SQ.M. 191 SQFT\"\n",
    "    },\n",
    "    {\n",
    "    \"name\": \"TOTAL AREA\",\n",
    "    \"dimension\": \"81.90 SQM. 882 SQFT.\"\n",
    "    }\n",
    "]\n",
    "}\n",
    "}\n"
   ]
  },
  {
   "cell_type": "code",
   "execution_count": 44,
   "metadata": {},
   "outputs": [],
   "source": [
    "\n",
    "# # extracted_page_data = extracted_document[i].metadata\n",
    "# room_data={}\n",
    "# for dimension in extracted_page_data['extracted_properties']['Dimension']:\n",
    "#     if(room_data.get(dimension['name'],None) is not None):\n",
    "#         room_data[dimension['name']][extracted_page_data['extracted_properties']['Flat Unit']]=dimension[\"dimension\"]\n",
    "#     else:\n",
    "#         room_data[dimension['name']]={\n",
    "#             extracted_page_data['extracted_properties']['Flat Unit']:dimension[\"dimension\"]\n",
    "#         }\n",
    "\n",
    "# print(room_data)"
   ]
  },
  {
   "cell_type": "code",
   "execution_count": 45,
   "metadata": {},
   "outputs": [],
   "source": [
    "# {\n",
    "#     Bedroom:{\n",
    "#         X02:{\n",
    "#             Bedroom1:100,\n",
    "#             Bedroom2:200\n",
    "#         }\n",
    "#     }\n",
    "# }"
   ]
  },
  {
   "cell_type": "code",
   "execution_count": 56,
   "metadata": {},
   "outputs": [
    {
     "name": "stdout",
     "output_type": "stream",
     "text": [
      "{'BALCONY': {'X02': {'BALCONY1': '3.09 X 1.79', 'BALCONY2': '6.10 X 5.17'}}, 'LIVING ROOM': {'X02': {'LIVING ROOM1': '7.540 X 3.87'}}, 'KITCHEN': {'X02': {'KITCHEN1': '4.10 X 2.40'}}, 'BEDROOM': {'X02': {'BEDROOM1': '4.38 X 3.40'}}, 'Bedroom 1': {'X02': {'Bedroom 11': '38 X 3.40'}}, 'Bed room 1': {'X02': {'Bed room 11': '4 X 3'}}, 'BATHROOM': {'X02': {'BATHROOM1': '2.50 X 1.60'}}}\n"
     ]
    }
   ],
   "source": [
    "# # extracted_page_data = extracted_document[i].metadata\n",
    "# room_data={}\n",
    "\n",
    "# for dimension in extracted_page_data['extracted_properties']['Dimension']:\n",
    "#     room_name = dimension['name']\n",
    "#     room_dimension = dimension['dimension']\n",
    "#     flat_unit = extracted_page_data['extracted_properties']['Flat Unit']\n",
    "    \n",
    "#     if room_name not in room_data:\n",
    "#         room_data[room_name] = {flat_unit: {f\"{room_name}1\": room_dimension}}\n",
    "#     else:\n",
    "#         if flat_unit not in room_data[room_name]:\n",
    "#             # room_data[room_name][flat_unit] = {f\"{room_name}1\": room_dimension}\n",
    "#         else:\n",
    "#             num = len([key for key in room_data[room_name][flat_unit] if room_name in key]) + 1\n",
    "#             room_data[room_name][flat_unit][f\"{room_name}{num}\"] = room_dimension\n",
    "\n",
    "# print(room_data)\n"
   ]
  },
  {
   "cell_type": "code",
   "execution_count": 47,
   "metadata": {},
   "outputs": [],
   "source": [
    "\n",
    "\n",
    "# import re\n",
    "# def restructure_room_name(room_name):\n",
    "#     # Convert room name to lowercase, remove spaces, and remove numbers\n",
    "#     restructured_name = room_name.lower().replace(\" \", \"\")\n",
    "#     restructured_name = re.sub(r'\\d+', '', restructured_name)\n",
    "#     return restructured_name\n",
    "\n",
    "# restructure_room_name('Bed room1')"
   ]
  },
  {
   "cell_type": "code",
   "execution_count": 65,
   "metadata": {},
   "outputs": [
    {
     "name": "stdout",
     "output_type": "stream",
     "text": [
      "{'balcony': {'X02': {'balcony1': '3.09 X 1.79', 'balcony2': '6.10 X 5.17'}}, 'livingroom': {'X02': {'livingroom1': '7.540 X 3.87'}}, 'kitchen': {'X02': {'kitchen1': '4.10 X 2.40'}}, 'bedroom': {'X02': {'bedroom1': '4.38 X 3.40', 'bedroom2': '38 X 3.40', 'bedroom3': '4 X 3'}}, 'bathroom': {'X02': {'bathroom1': '2.50 X 1.60'}}}\n"
     ]
    }
   ],
   "source": [
    "import re\n",
    "def restructure_room_name(room_name):\n",
    "    restructured_name = room_name.lower().replace(\" \", \"\")\n",
    "    restructured_name = re.sub(r'\\d+', '', restructured_name)\n",
    "    return restructured_name\n",
    "\n",
    "extracted_page_data = extracted_document[i].metadata\n",
    "room_data = {}\n",
    "\n",
    "for dimension in extracted_page_data['extracted_properties']['Dimension']:\n",
    "    room_name=restructure_room_name(dimension['name'])\n",
    "    room_dimension = dimension['dimension']\n",
    "    flat_unit = extracted_page_data['extracted_properties']['Flat Unit']\n",
    "    \n",
    "    if room_name not in room_data:\n",
    "        room_data[room_name] = {flat_unit: {f\"{room_name}1\": room_dimension}}\n",
    "    else:\n",
    "        if flat_unit not in room_data[room_name]:\n",
    "            room_data[room_name][flat_unit] = {f\"{room_name}1\": room_dimension}\n",
    "        else:\n",
    "            num = len([key for key in room_data[room_name][flat_unit] if room_name in key]) + 1\n",
    "            room_data[room_name][flat_unit][f\"{room_name}{num}\"] = room_dimension\n",
    "            \n",
    "\n",
    "\n",
    "print(room_data)\n",
    "\n"
   ]
  },
  {
   "cell_type": "code",
   "execution_count": 76,
   "metadata": {},
   "outputs": [
    {
     "name": "stdout",
     "output_type": "stream",
     "text": [
      "balcony: X02: balcony1=3.09 X 1.79 balcony2=6.10 X 5.17 \n",
      "livingroom: X02: livingroom1=7.540 X 3.87 \n",
      "kitchen: X02: kitchen1=4.10 X 2.40 \n",
      "bedroom: X02: bedroom1=4.38 X 3.40 bedroom2=38 X 3.40 bedroom3=4 X 3 \n",
      "bathroom: X02: bathroom1=2.50 X 1.60 Page: 1\n",
      "balcony: X02: balcony1=3.09 X 1.79 balcony2=6.10 X 5.17 \n",
      "livingroom: X02: livingroom1=7.540 X 3.87 \n",
      "kitchen: X02: kitchen1=4.10 X 2.40 \n",
      "bedroom: X02: bedroom1=4.38 X 3.40 bedroom2=38 X 3.40 bedroom3=4 X 3 \n",
      "bathroom: X02: bathroom1=2.50 X 1.60 Page: 2\n",
      "balcony: X02: balcony1=3.09 X 1.79 balcony2=6.10 X 5.17 \n",
      "livingroom: X02: livingroom1=7.540 X 3.87 \n",
      "kitchen: X02: kitchen1=4.10 X 2.40 \n",
      "bedroom: X02: bedroom1=4.38 X 3.40 bedroom2=38 X 3.40 bedroom3=4 X 3 \n",
      "bathroom: X02: bathroom1=2.50 X 1.60 Page: 3\n",
      "balcony: X02: balcony1=3.09 X 1.79 balcony2=6.10 X 5.17 \n",
      "livingroom: X02: livingroom1=7.540 X 3.87 \n",
      "kitchen: X02: kitchen1=4.10 X 2.40 \n",
      "bedroom: X02: bedroom1=4.38 X 3.40 bedroom2=38 X 3.40 bedroom3=4 X 3 \n",
      "bathroom: X02: bathroom1=2.50 X 1.60 Page: 4\n",
      "balcony: X02: balcony1=3.09 X 1.79 balcony2=6.10 X 5.17 \n",
      "livingroom: X02: livingroom1=7.540 X 3.87 \n",
      "kitchen: X02: kitchen1=4.10 X 2.40 \n",
      "bedroom: X02: bedroom1=4.38 X 3.40 bedroom2=38 X 3.40 bedroom3=4 X 3 \n",
      "bathroom: X02: bathroom1=2.50 X 1.60 Page: 5\n"
     ]
    }
   ],
   "source": [
    "from langchain.document_loaders import JSONLoader\n",
    "from langchain.schema import Document\n",
    "\n",
    "\n",
    "num_elements = len(room_data)\n",
    "page_nos = range(1, num_elements + 1)\n",
    "documents = [create_document(room_data, page_no) for page_no in page_nos]\n",
    "\n",
    "def create_document(room_data, page_no):\n",
    "   document_content = ''\n",
    "   prev_room_name = None\n",
    "   for room_name, room_info in room_data.items():\n",
    "       for flat_unit, room_dimensions in room_info.items():\n",
    "           for dimension_key, room_dimension in room_dimensions.items():\n",
    "               if room_name == prev_room_name:\n",
    "                  # If the room name is the same as the previous room name, append the new dimension to the existing line\n",
    "                  document_content += f'{dimension_key}={room_dimension} '\n",
    "               else:\n",
    "                  if prev_room_name is not None:\n",
    "                      # If there was a previous room name, add a newline before starting a new line\n",
    "                      document_content += '\\n'\n",
    "                  document_content += f'{room_name}: {flat_unit}: {dimension_key}={room_dimension} '\n",
    "               prev_room_name = room_name\n",
    "   document_content += f'Page: {page_no}'\n",
    "   return Document(page_content=document_content)\n",
    "\n",
    "for document in documents:\n",
    "   print(document.page_content)\n"
   ]
  },
  {
   "cell_type": "code",
   "execution_count": null,
   "metadata": {},
   "outputs": [],
   "source": [
    "!pip install langchain"
   ]
  },
  {
   "cell_type": "code",
   "execution_count": null,
   "metadata": {},
   "outputs": [],
   "source": []
  }
 ],
 "metadata": {
  "kernelspec": {
   "display_name": "Python 3",
   "language": "python",
   "name": "python3"
  },
  "language_info": {
   "codemirror_mode": {
    "name": "ipython",
    "version": 3
   },
   "file_extension": ".py",
   "mimetype": "text/x-python",
   "name": "python",
   "nbconvert_exporter": "python",
   "pygments_lexer": "ipython3",
   "version": "3.11.6"
  }
 },
 "nbformat": 4,
 "nbformat_minor": 2
}
